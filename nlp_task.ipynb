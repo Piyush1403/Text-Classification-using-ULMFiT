{
 "cells": [
  {
   "cell_type": "code",
   "execution_count": 1,
   "metadata": {},
   "outputs": [
    {
     "name": "stdout",
     "output_type": "stream",
     "text": [
      "/home/piyush/Desktop/spotmentorlabs-machine-learning-assessment-dcc28d02f3d4\r\n"
     ]
    }
   ],
   "source": [
    "!pwd"
   ]
  },
  {
   "cell_type": "code",
   "execution_count": 2,
   "metadata": {},
   "outputs": [],
   "source": [
    "import os, json\n",
    "import pandas as pd\n",
    "\n",
    "# this finds our json files\n",
    "path_to_json = 'data/docs'\n",
    "json_files = [pos_json for pos_json in os.listdir(path_to_json) if pos_json.endswith('.json')]"
   ]
  },
  {
   "cell_type": "code",
   "execution_count": 3,
   "metadata": {},
   "outputs": [],
   "source": [
    "jsons_data = pd.DataFrame(columns=['job description', 'job id'])"
   ]
  },
  {
   "cell_type": "code",
   "execution_count": 4,
   "metadata": {},
   "outputs": [],
   "source": [
    "for index, js in enumerate(json_files):\n",
    "    with open(os.path.join(path_to_json, js)) as json_file:\n",
    "        json_text = json.load(json_file)\n",
    "\n",
    "        job_description = json_text['jd_information']['description']\n",
    "        job_id = json_text['_id']\n",
    "        jsons_data.loc[index] = [job_description, job_id]"
   ]
  },
  {
   "cell_type": "code",
   "execution_count": 5,
   "metadata": {},
   "outputs": [
    {
     "data": {
      "text/html": [
       "<div>\n",
       "<style scoped>\n",
       "    .dataframe tbody tr th:only-of-type {\n",
       "        vertical-align: middle;\n",
       "    }\n",
       "\n",
       "    .dataframe tbody tr th {\n",
       "        vertical-align: top;\n",
       "    }\n",
       "\n",
       "    .dataframe thead th {\n",
       "        text-align: right;\n",
       "    }\n",
       "</style>\n",
       "<table border=\"1\" class=\"dataframe\">\n",
       "  <thead>\n",
       "    <tr style=\"text-align: right;\">\n",
       "      <th></th>\n",
       "      <th>job description</th>\n",
       "      <th>job id</th>\n",
       "    </tr>\n",
       "  </thead>\n",
       "  <tbody>\n",
       "    <tr>\n",
       "      <th>count</th>\n",
       "      <td>1162</td>\n",
       "      <td>1162</td>\n",
       "    </tr>\n",
       "    <tr>\n",
       "      <th>unique</th>\n",
       "      <td>619</td>\n",
       "      <td>1162</td>\n",
       "    </tr>\n",
       "    <tr>\n",
       "      <th>top</th>\n",
       "      <td></td>\n",
       "      <td>8066769</td>\n",
       "    </tr>\n",
       "    <tr>\n",
       "      <th>freq</th>\n",
       "      <td>417</td>\n",
       "      <td>1</td>\n",
       "    </tr>\n",
       "  </tbody>\n",
       "</table>\n",
       "</div>"
      ],
      "text/plain": [
       "       job description   job id\n",
       "count             1162     1162\n",
       "unique             619     1162\n",
       "top                     8066769\n",
       "freq               417        1"
      ]
     },
     "execution_count": 5,
     "metadata": {},
     "output_type": "execute_result"
    }
   ],
   "source": [
    "jsons_data.describe()"
   ]
  },
  {
   "cell_type": "code",
   "execution_count": 6,
   "metadata": {},
   "outputs": [
    {
     "data": {
      "text/html": [
       "<div>\n",
       "<style scoped>\n",
       "    .dataframe tbody tr th:only-of-type {\n",
       "        vertical-align: middle;\n",
       "    }\n",
       "\n",
       "    .dataframe tbody tr th {\n",
       "        vertical-align: top;\n",
       "    }\n",
       "\n",
       "    .dataframe thead th {\n",
       "        text-align: right;\n",
       "    }\n",
       "</style>\n",
       "<table border=\"1\" class=\"dataframe\">\n",
       "  <thead>\n",
       "    <tr style=\"text-align: right;\">\n",
       "      <th></th>\n",
       "      <th>job description</th>\n",
       "      <th>job id</th>\n",
       "    </tr>\n",
       "  </thead>\n",
       "  <tbody>\n",
       "    <tr>\n",
       "      <th>0</th>\n",
       "      <td>Accounting Experience and computer knowledge, ...</td>\n",
       "      <td>8303467</td>\n",
       "    </tr>\n",
       "    <tr>\n",
       "      <th>1</th>\n",
       "      <td>Post: Office ExecutiveLocation:&amp;nbsp;Andheri M...</td>\n",
       "      <td>8136645</td>\n",
       "    </tr>\n",
       "    <tr>\n",
       "      <th>2</th>\n",
       "      <td></td>\n",
       "      <td>8231256</td>\n",
       "    </tr>\n",
       "    <tr>\n",
       "      <th>3</th>\n",
       "      <td></td>\n",
       "      <td>8131576</td>\n",
       "    </tr>\n",
       "    <tr>\n",
       "      <th>4</th>\n",
       "      <td>The person will have in-depth understanding of...</td>\n",
       "      <td>8370423</td>\n",
       "    </tr>\n",
       "  </tbody>\n",
       "</table>\n",
       "</div>"
      ],
      "text/plain": [
       "                                     job description   job id\n",
       "0  Accounting Experience and computer knowledge, ...  8303467\n",
       "1  Post: Office ExecutiveLocation:&nbsp;Andheri M...  8136645\n",
       "2                                                     8231256\n",
       "3                                                     8131576\n",
       "4  The person will have in-depth understanding of...  8370423"
      ]
     },
     "execution_count": 6,
     "metadata": {},
     "output_type": "execute_result"
    }
   ],
   "source": [
    "jsons_data.head()"
   ]
  },
  {
   "cell_type": "code",
   "execution_count": 7,
   "metadata": {},
   "outputs": [
    {
     "name": "stdout",
     "output_type": "stream",
     "text": [
      "/home/piyush/Desktop/spotmentorlabs-machine-learning-assessment-dcc28d02f3d4\r\n"
     ]
    }
   ],
   "source": [
    "!pwd"
   ]
  },
  {
   "cell_type": "code",
   "execution_count": 8,
   "metadata": {},
   "outputs": [],
   "source": [
    "csv_data = pd.read_csv(\"./data/document_departments.csv\")"
   ]
  },
  {
   "cell_type": "code",
   "execution_count": 9,
   "metadata": {},
   "outputs": [
    {
     "name": "stdout",
     "output_type": "stream",
     "text": [
      "<class 'pandas.core.frame.DataFrame'>\n",
      "RangeIndex: 1162 entries, 0 to 1161\n",
      "Data columns (total 2 columns):\n",
      "Document ID    1162 non-null int64\n",
      "Department     1162 non-null object\n",
      "dtypes: int64(1), object(1)\n",
      "memory usage: 18.2+ KB\n"
     ]
    }
   ],
   "source": [
    "csv_data.info()"
   ]
  },
  {
   "cell_type": "code",
   "execution_count": 10,
   "metadata": {},
   "outputs": [],
   "source": [
    "jsons_data.columns = ['Job Description', 'Document ID']"
   ]
  },
  {
   "cell_type": "code",
   "execution_count": 11,
   "metadata": {},
   "outputs": [
    {
     "data": {
      "text/html": [
       "<div>\n",
       "<style scoped>\n",
       "    .dataframe tbody tr th:only-of-type {\n",
       "        vertical-align: middle;\n",
       "    }\n",
       "\n",
       "    .dataframe tbody tr th {\n",
       "        vertical-align: top;\n",
       "    }\n",
       "\n",
       "    .dataframe thead th {\n",
       "        text-align: right;\n",
       "    }\n",
       "</style>\n",
       "<table border=\"1\" class=\"dataframe\">\n",
       "  <thead>\n",
       "    <tr style=\"text-align: right;\">\n",
       "      <th></th>\n",
       "      <th>Document ID</th>\n",
       "      <th>Department</th>\n",
       "    </tr>\n",
       "  </thead>\n",
       "  <tbody>\n",
       "    <tr>\n",
       "      <th>0</th>\n",
       "      <td>8196431</td>\n",
       "      <td>Customer service</td>\n",
       "    </tr>\n",
       "    <tr>\n",
       "      <th>1</th>\n",
       "      <td>8278123</td>\n",
       "      <td>Digital Marketing</td>\n",
       "    </tr>\n",
       "    <tr>\n",
       "      <th>2</th>\n",
       "      <td>8331625</td>\n",
       "      <td>Sales</td>\n",
       "    </tr>\n",
       "    <tr>\n",
       "      <th>3</th>\n",
       "      <td>8331003</td>\n",
       "      <td>Back office ticketing</td>\n",
       "    </tr>\n",
       "    <tr>\n",
       "      <th>4</th>\n",
       "      <td>8277939</td>\n",
       "      <td>Digital Marketing</td>\n",
       "    </tr>\n",
       "  </tbody>\n",
       "</table>\n",
       "</div>"
      ],
      "text/plain": [
       "   Document ID             Department\n",
       "0      8196431       Customer service\n",
       "1      8278123      Digital Marketing\n",
       "2      8331625                  Sales\n",
       "3      8331003  Back office ticketing\n",
       "4      8277939      Digital Marketing"
      ]
     },
     "execution_count": 11,
     "metadata": {},
     "output_type": "execute_result"
    }
   ],
   "source": [
    "csv_data.head()"
   ]
  },
  {
   "cell_type": "code",
   "execution_count": 12,
   "metadata": {},
   "outputs": [
    {
     "data": {
      "text/html": [
       "<div>\n",
       "<style scoped>\n",
       "    .dataframe tbody tr th:only-of-type {\n",
       "        vertical-align: middle;\n",
       "    }\n",
       "\n",
       "    .dataframe tbody tr th {\n",
       "        vertical-align: top;\n",
       "    }\n",
       "\n",
       "    .dataframe thead th {\n",
       "        text-align: right;\n",
       "    }\n",
       "</style>\n",
       "<table border=\"1\" class=\"dataframe\">\n",
       "  <thead>\n",
       "    <tr style=\"text-align: right;\">\n",
       "      <th></th>\n",
       "      <th>Job Description</th>\n",
       "      <th>Document ID</th>\n",
       "    </tr>\n",
       "  </thead>\n",
       "  <tbody>\n",
       "    <tr>\n",
       "      <th>0</th>\n",
       "      <td>Accounting Experience and computer knowledge, ...</td>\n",
       "      <td>8303467</td>\n",
       "    </tr>\n",
       "    <tr>\n",
       "      <th>1</th>\n",
       "      <td>Post: Office ExecutiveLocation:&amp;nbsp;Andheri M...</td>\n",
       "      <td>8136645</td>\n",
       "    </tr>\n",
       "    <tr>\n",
       "      <th>2</th>\n",
       "      <td></td>\n",
       "      <td>8231256</td>\n",
       "    </tr>\n",
       "    <tr>\n",
       "      <th>3</th>\n",
       "      <td></td>\n",
       "      <td>8131576</td>\n",
       "    </tr>\n",
       "    <tr>\n",
       "      <th>4</th>\n",
       "      <td>The person will have in-depth understanding of...</td>\n",
       "      <td>8370423</td>\n",
       "    </tr>\n",
       "  </tbody>\n",
       "</table>\n",
       "</div>"
      ],
      "text/plain": [
       "                                     Job Description Document ID\n",
       "0  Accounting Experience and computer knowledge, ...     8303467\n",
       "1  Post: Office ExecutiveLocation:&nbsp;Andheri M...     8136645\n",
       "2                                                        8231256\n",
       "3                                                        8131576\n",
       "4  The person will have in-depth understanding of...     8370423"
      ]
     },
     "execution_count": 12,
     "metadata": {},
     "output_type": "execute_result"
    }
   ],
   "source": [
    "jsons_data.head()"
   ]
  },
  {
   "cell_type": "code",
   "execution_count": 13,
   "metadata": {},
   "outputs": [],
   "source": [
    "jsons_data['Document ID']=jsons_data['Document ID'].astype(int)"
   ]
  },
  {
   "cell_type": "code",
   "execution_count": 14,
   "metadata": {},
   "outputs": [
    {
     "name": "stdout",
     "output_type": "stream",
     "text": [
      "<class 'pandas.core.frame.DataFrame'>\n",
      "Int64Index: 1162 entries, 0 to 1161\n",
      "Data columns (total 2 columns):\n",
      "Job Description    1162 non-null object\n",
      "Document ID        1162 non-null int64\n",
      "dtypes: int64(1), object(1)\n",
      "memory usage: 27.2+ KB\n"
     ]
    }
   ],
   "source": [
    "jsons_data.info()"
   ]
  },
  {
   "cell_type": "code",
   "execution_count": 15,
   "metadata": {},
   "outputs": [],
   "source": [
    "final = jsons_data.merge(csv_data,on='Document ID')"
   ]
  },
  {
   "cell_type": "code",
   "execution_count": 16,
   "metadata": {},
   "outputs": [],
   "source": [
    "final.drop('Document ID', axis=1, inplace=True)"
   ]
  },
  {
   "cell_type": "code",
   "execution_count": 17,
   "metadata": {},
   "outputs": [
    {
     "data": {
      "text/html": [
       "<div>\n",
       "<style scoped>\n",
       "    .dataframe tbody tr th:only-of-type {\n",
       "        vertical-align: middle;\n",
       "    }\n",
       "\n",
       "    .dataframe tbody tr th {\n",
       "        vertical-align: top;\n",
       "    }\n",
       "\n",
       "    .dataframe thead th {\n",
       "        text-align: right;\n",
       "    }\n",
       "</style>\n",
       "<table border=\"1\" class=\"dataframe\">\n",
       "  <thead>\n",
       "    <tr style=\"text-align: right;\">\n",
       "      <th></th>\n",
       "      <th>Job Description</th>\n",
       "      <th>Department</th>\n",
       "    </tr>\n",
       "  </thead>\n",
       "  <tbody>\n",
       "    <tr>\n",
       "      <th>0</th>\n",
       "      <td>Accounting Experience and computer knowledge, ...</td>\n",
       "      <td>Finance</td>\n",
       "    </tr>\n",
       "    <tr>\n",
       "      <th>1</th>\n",
       "      <td>Post: Office ExecutiveLocation:&amp;nbsp;Andheri M...</td>\n",
       "      <td>Data entry</td>\n",
       "    </tr>\n",
       "    <tr>\n",
       "      <th>2</th>\n",
       "      <td></td>\n",
       "      <td>Marine Service Steward</td>\n",
       "    </tr>\n",
       "    <tr>\n",
       "      <th>3</th>\n",
       "      <td></td>\n",
       "      <td>Finance</td>\n",
       "    </tr>\n",
       "    <tr>\n",
       "      <th>4</th>\n",
       "      <td>The person will have in-depth understanding of...</td>\n",
       "      <td>Operations</td>\n",
       "    </tr>\n",
       "  </tbody>\n",
       "</table>\n",
       "</div>"
      ],
      "text/plain": [
       "                                     Job Description               Department\n",
       "0  Accounting Experience and computer knowledge, ...                  Finance\n",
       "1  Post: Office ExecutiveLocation:&nbsp;Andheri M...               Data entry\n",
       "2                                                     Marine Service Steward \n",
       "3                                                                     Finance\n",
       "4  The person will have in-depth understanding of...               Operations"
      ]
     },
     "execution_count": 17,
     "metadata": {},
     "output_type": "execute_result"
    }
   ],
   "source": [
    "final.head()"
   ]
  },
  {
   "cell_type": "code",
   "execution_count": 18,
   "metadata": {},
   "outputs": [
    {
     "data": {
      "text/html": [
       "<div>\n",
       "<style scoped>\n",
       "    .dataframe tbody tr th:only-of-type {\n",
       "        vertical-align: middle;\n",
       "    }\n",
       "\n",
       "    .dataframe tbody tr th {\n",
       "        vertical-align: top;\n",
       "    }\n",
       "\n",
       "    .dataframe thead th {\n",
       "        text-align: right;\n",
       "    }\n",
       "</style>\n",
       "<table border=\"1\" class=\"dataframe\">\n",
       "  <thead>\n",
       "    <tr style=\"text-align: right;\">\n",
       "      <th></th>\n",
       "      <th>Document ID</th>\n",
       "      <th>Department</th>\n",
       "    </tr>\n",
       "  </thead>\n",
       "  <tbody>\n",
       "    <tr>\n",
       "      <th>1056</th>\n",
       "      <td>8370423</td>\n",
       "      <td>Operations</td>\n",
       "    </tr>\n",
       "  </tbody>\n",
       "</table>\n",
       "</div>"
      ],
      "text/plain": [
       "      Document ID  Department\n",
       "1056      8370423  Operations"
      ]
     },
     "execution_count": 18,
     "metadata": {},
     "output_type": "execute_result"
    }
   ],
   "source": [
    "csv_data.loc[csv_data['Document ID'] == 8370423]"
   ]
  },
  {
   "cell_type": "code",
   "execution_count": 21,
   "metadata": {},
   "outputs": [
    {
     "name": "stdout",
     "output_type": "stream",
     "text": [
      "/home/piyush/Desktop/spotmentorlabs-machine-learning-assessment-dcc28d02f3d4\r\n"
     ]
    }
   ],
   "source": [
    "!pwd"
   ]
  },
  {
   "cell_type": "code",
   "execution_count": 20,
   "metadata": {},
   "outputs": [],
   "source": [
    "from fastai.text import * "
   ]
  },
  {
   "cell_type": "code",
   "execution_count": 22,
   "metadata": {},
   "outputs": [
    {
     "name": "stdout",
     "output_type": "stream",
     "text": [
      "<class 'pandas.core.frame.DataFrame'>\n",
      "Int64Index: 1162 entries, 0 to 1161\n",
      "Data columns (total 2 columns):\n",
      "Job Description    1162 non-null object\n",
      "Department         1162 non-null object\n",
      "dtypes: object(2)\n",
      "memory usage: 27.2+ KB\n"
     ]
    }
   ],
   "source": [
    "#splitting dataframes in training and testing \n",
    "final.info()"
   ]
  },
  {
   "cell_type": "code",
   "execution_count": 33,
   "metadata": {},
   "outputs": [],
   "source": [
    "from sklearn.model_selection import train_test_split\n",
    "train_df, valid_df = train_test_split(final, test_size=0.2)"
   ]
  },
  {
   "cell_type": "code",
   "execution_count": 34,
   "metadata": {},
   "outputs": [
    {
     "name": "stdout",
     "output_type": "stream",
     "text": [
      "<class 'pandas.core.frame.DataFrame'>\n",
      "Int64Index: 929 entries, 100 to 34\n",
      "Data columns (total 2 columns):\n",
      "Job Description    929 non-null object\n",
      "Department         929 non-null object\n",
      "dtypes: object(2)\n",
      "memory usage: 21.8+ KB\n"
     ]
    }
   ],
   "source": [
    "train_df.info()"
   ]
  },
  {
   "cell_type": "code",
   "execution_count": 35,
   "metadata": {},
   "outputs": [
    {
     "name": "stdout",
     "output_type": "stream",
     "text": [
      "<class 'pandas.core.frame.DataFrame'>\n",
      "Int64Index: 233 entries, 253 to 218\n",
      "Data columns (total 2 columns):\n",
      "Job Description    233 non-null object\n",
      "Department         233 non-null object\n",
      "dtypes: object(2)\n",
      "memory usage: 5.5+ KB\n"
     ]
    }
   ],
   "source": [
    "valid_df.info()"
   ]
  },
  {
   "cell_type": "code",
   "execution_count": 40,
   "metadata": {},
   "outputs": [
    {
     "data": {
      "text/plain": [
       "'/home/piyush/Desktop/spotmentorlabs-machine-learning-assessment-dcc28d02f3d4'"
      ]
     },
     "execution_count": 40,
     "metadata": {},
     "output_type": "execute_result"
    }
   ],
   "source": [
    "import os\n",
    "cwd = os.getcwd()\n",
    "cwd"
   ]
  },
  {
   "cell_type": "code",
   "execution_count": 41,
   "metadata": {},
   "outputs": [
    {
     "data": {
      "text/html": [],
      "text/plain": [
       "<IPython.core.display.HTML object>"
      ]
     },
     "metadata": {},
     "output_type": "display_data"
    },
    {
     "data": {
      "text/html": [],
      "text/plain": [
       "<IPython.core.display.HTML object>"
      ]
     },
     "metadata": {},
     "output_type": "display_data"
    }
   ],
   "source": [
    "#create language model data\n",
    "data_lm = TextLMDataBunch.from_df(path=cwd, train_df=train_df, valid_df=valid_df, text_cols=\"Job Description\", label_cols=\"Department\")"
   ]
  },
  {
   "cell_type": "code",
   "execution_count": 42,
   "metadata": {},
   "outputs": [
    {
     "data": {
      "text/html": [],
      "text/plain": [
       "<IPython.core.display.HTML object>"
      ]
     },
     "metadata": {},
     "output_type": "display_data"
    },
    {
     "data": {
      "text/html": [],
      "text/plain": [
       "<IPython.core.display.HTML object>"
      ]
     },
     "metadata": {},
     "output_type": "display_data"
    }
   ],
   "source": [
    "#create classifier model data\n",
    "data_clas = TextClasDataBunch.from_df(path=cwd, train_df=train_df, valid_df=valid_df, text_cols=\"Job Description\", \n",
    "                                      label_cols=\"Department\",vocab=data_lm.train_ds.vocab, bs=16)"
   ]
  },
  {
   "cell_type": "code",
   "execution_count": 43,
   "metadata": {},
   "outputs": [
    {
     "name": "stdout",
     "output_type": "stream",
     "text": [
      "Downloading https://s3.amazonaws.com/fast-ai-modelzoo/wt103-fwd\n"
     ]
    },
    {
     "data": {
      "text/html": [],
      "text/plain": [
       "<IPython.core.display.HTML object>"
      ]
     },
     "metadata": {},
     "output_type": "display_data"
    },
    {
     "data": {
      "text/html": [
       "<table border=\"1\" class=\"dataframe\">\n",
       "  <thead>\n",
       "    <tr style=\"text-align: left;\">\n",
       "      <th>epoch</th>\n",
       "      <th>train_loss</th>\n",
       "      <th>valid_loss</th>\n",
       "      <th>accuracy</th>\n",
       "      <th>time</th>\n",
       "    </tr>\n",
       "  </thead>\n",
       "  <tbody>\n",
       "    <tr>\n",
       "      <td>0</td>\n",
       "      <td>4.748454</td>\n",
       "      <td>3.918506</td>\n",
       "      <td>0.293452</td>\n",
       "      <td>02:55</td>\n",
       "    </tr>\n",
       "  </tbody>\n",
       "</table>"
      ],
      "text/plain": [
       "<IPython.core.display.HTML object>"
      ]
     },
     "metadata": {},
     "output_type": "display_data"
    }
   ],
   "source": [
    "learn = language_model_learner(data_lm, AWD_LSTM, drop_mult=0.5)\n",
    "learn.fit_one_cycle(1, 1e-2)"
   ]
  },
  {
   "cell_type": "code",
   "execution_count": 44,
   "metadata": {},
   "outputs": [
    {
     "data": {
      "text/html": [
       "<table border=\"1\" class=\"dataframe\">\n",
       "  <thead>\n",
       "    <tr style=\"text-align: left;\">\n",
       "      <th>epoch</th>\n",
       "      <th>train_loss</th>\n",
       "      <th>valid_loss</th>\n",
       "      <th>accuracy</th>\n",
       "      <th>time</th>\n",
       "    </tr>\n",
       "  </thead>\n",
       "  <tbody>\n",
       "    <tr>\n",
       "      <td>0</td>\n",
       "      <td>3.747868</td>\n",
       "      <td>3.322830</td>\n",
       "      <td>0.396540</td>\n",
       "      <td>02:54</td>\n",
       "    </tr>\n",
       "  </tbody>\n",
       "</table>"
      ],
      "text/plain": [
       "<IPython.core.display.HTML object>"
      ]
     },
     "metadata": {},
     "output_type": "display_data"
    }
   ],
   "source": [
    "learn.unfreeze()\n",
    "learn.fit_one_cycle(1, 1e-3)"
   ]
  },
  {
   "cell_type": "code",
   "execution_count": 45,
   "metadata": {},
   "outputs": [],
   "source": [
    "learn.save_encoder('ft_enc')"
   ]
  },
  {
   "cell_type": "code",
   "execution_count": 46,
   "metadata": {},
   "outputs": [
    {
     "data": {
      "text/plain": [
       "RNNLearner(data=TextClasDataBunch;\n",
       "\n",
       "Train: LabelList (929 items)\n",
       "x: TextList\n",
       "xxbos xxmaj you should have minimum of 1 xxmaj year hands - on experience in xxmaj international xxmaj air xxmaj ticketing . xxmaj you should have sound knowledge & & experience in xxmaj galileo & & xxmaj amadeus . xxmaj you should have knowledge of making reservations on xxup crs . xxmaj creating xxup pnr split , xxmaj queues xxmaj you should have xxunk of xxup bsp xxmaj electronic xxmaj ticketing xxmaj table , xxmaj ticketing xxmaj quota xxmaj system , xxmaj issuing & & reissuing . xxmaj you should have sound xxmaj knowledge of xxmaj airline xxmaj fares.- xxmaj you should be professional , and positive in handling clients . xxmaj requirements : xxunk be computer literate , familiarity with xxmaj microsoft excel , word , and outlook .,xxbos,xxbos xxmaj the key to your success in this role will be : xxmaj strong written and oral communication skills a xxunk team member with a desire to share ideas xxmaj industry experience of at least 2 years a passion for travel xxmaj knowledge of , and the ability to work across all xxmaj south xxmaj xxunk destinations is essential xxmaj the ability to work under pressure and meet deadlines xxmaj excellent attention to detail xxmaj xxunk xxunk of initiative xxmaj the desire to learn and develop your skills and knowledge xxmaj an out there kind of personality !,xxbos,xxbos xxmaj travel xxmaj consultant xxunk : xxmaj determining clients ’ needs & and suggesting suitable travel xxunk travels from beginning to end , including tickets , accommodation and xxunk travelers with pertinent information and useful & travel / holiday materials & & xxmaj job briefwe are looking for a xxmaj travel xxmaj consultant with great enthusiasm for traveling . xxmaj you will be responsible for promoting and booking traveling arrangements for clients ( individuals or businesses ) . xxmaj the goal is to enhance satisfaction and acquire an expanding and dedicated clientele . responsibilitiesresearch various destinations and means of travel regarding prices , customs , weather conditions , reviews etc . xxmaj diagnose the clients ’ specifications and wishes and suggest suitable travel packages or servicesorganize travels from beginning to end , through booking tickets and accommodation , securing rental transportation etc . xxmaj supply travelers with pertinent information and useful & travel / holiday material & ( guides , maps , event programs etc)collect deposits and balancesuse promotional techniques and prepare promotional materials to sell itinerary tour packageshandle unforeseen & problems and complaints & and determine eligibility & for money returnsattend conferences & to & maintain familiarity with tourism trendscreate and update electronic records of clientsmaintain relationships with key personskeep financial statements and documentsreach the revenue and profit targetsrequirementsproven working experience as a travel consultantexcellent knowledge of traveling software ( computer reservations systems , xxup gds systems and e - travel)proficiency in xxmaj english ; knowledge of additional languages is an advantageexemplary sales skills and customer oriented approachwell versed in various areas of travel ( domestic / international , business / holidays , group / individual etc)ability to present , persuade and communicate effectivelydemonstrable ability to handle crisesdegree in xxmaj hospitality , xxmaj travel , xxmaj tourism , xxmaj business or relevant fieldcandidates with personal travel experience will be preferred\n",
       "y: CategoryList\n",
       "Ticketing,Ticketing,Ticketing,Ticketing,Ticketing\n",
       "Path: /home/piyush/Desktop/spotmentorlabs-machine-learning-assessment-dcc28d02f3d4;\n",
       "\n",
       "Valid: LabelList (233 items)\n",
       "x: TextList\n",
       "xxbos,xxbos,xxbos xxmaj requirement for xxmaj part xxmaj time xxmaj internet xxmaj based xxunk xxmaj works xxmaj are xxmaj available xxmaj for xxmaj workers xxmaj around xxmaj the xxmaj world . xxmaj nature of xxmaj business : & xxmaj promotion of xxmaj tourism & xxmaj services . xxmaj income : & xxmaj you xxmaj can xxmaj earn xxmaj up xxmaj to xxmaj rs.4000 xxmaj to 6000 xxmaj per xxmaj week . xxmaj benefit : & xxmaj no xxmaj time xxmaj bound , xxmaj no xxmaj skill xxmaj required . xxmaj complete xxmaj training xxmaj provided xxmaj to xxmaj all xxmaj active xxmaj members . xxmaj all xxmaj payments xxmaj are xxmaj weekly xxmaj basis . xxmaj worldwide xxmaj required xxmaj limited xxunk xxmaj now . xxmaj xxunk xxmaj xxunk ( xxup hr xxmaj xxunk,xxbos,xxbos xxmaj we xxmaj have urgent xxunk for xxmaj ticketing xxmaj executive at xxmaj tour and xxmaj travel xxunk xxmaj company at saanewal xxmaj location . xxmaj post- xxmaj ticketing xxmaj executive , xxmaj travel xxunk - 3 xxmaj xxunk 9 - xxunk xxmaj saanewaal , xxup xxunk xxmaj road . xxmaj ludhiana . xxmaj xxunk xxmaj candiadtes will xxunk near by 10 - 15 xxmaj xxunk they can apply on prior . xxmaj xxunk , saanewaal , xxmaj xxunk , xxmaj xxunk , or near by candidates can apply . xxmaj job xxmaj xxunk * xxmaj all xxmaj ticketing xxmaj activities : such as xxmaj issuance , xxmaj re - issuance , xxmaj xxunk , xxmaj cancellation and xxmaj refunds * knowledge of xxup gds ( xxmaj amadeus / xxmaj sabre ) - xxmaj not necessary for xxunk * xxmaj xxunk all activities * xxmaj follow ups with customers and clients for existing reservations . xxmaj intrested can call to xxmaj aditya kumar on 8527750087 or mail your cv on hr@cmts.in or cmts.hr@gmail.com & male and xxmaj female both will xxunk for the post .\n",
       "y: CategoryList\n",
       "Ticketing,Sales,Marketing,Digital Marketing,Ticketing\n",
       "Path: /home/piyush/Desktop/spotmentorlabs-machine-learning-assessment-dcc28d02f3d4;\n",
       "\n",
       "Test: None, model=SequentialRNN(\n",
       "  (0): MultiBatchEncoder(\n",
       "    (module): AWD_LSTM(\n",
       "      (encoder): Embedding(3288, 400, padding_idx=1)\n",
       "      (encoder_dp): EmbeddingDropout(\n",
       "        (emb): Embedding(3288, 400, padding_idx=1)\n",
       "      )\n",
       "      (rnns): ModuleList(\n",
       "        (0): WeightDropout(\n",
       "          (module): LSTM(400, 1152, batch_first=True)\n",
       "        )\n",
       "        (1): WeightDropout(\n",
       "          (module): LSTM(1152, 1152, batch_first=True)\n",
       "        )\n",
       "        (2): WeightDropout(\n",
       "          (module): LSTM(1152, 400, batch_first=True)\n",
       "        )\n",
       "      )\n",
       "      (input_dp): RNNDropout()\n",
       "      (hidden_dps): ModuleList(\n",
       "        (0): RNNDropout()\n",
       "        (1): RNNDropout()\n",
       "        (2): RNNDropout()\n",
       "      )\n",
       "    )\n",
       "  )\n",
       "  (1): PoolingLinearClassifier(\n",
       "    (layers): Sequential(\n",
       "      (0): BatchNorm1d(1200, eps=1e-05, momentum=0.1, affine=True, track_running_stats=True)\n",
       "      (1): Dropout(p=0.2, inplace=False)\n",
       "      (2): Linear(in_features=1200, out_features=50, bias=True)\n",
       "      (3): ReLU(inplace=True)\n",
       "      (4): BatchNorm1d(50, eps=1e-05, momentum=0.1, affine=True, track_running_stats=True)\n",
       "      (5): Dropout(p=0.1, inplace=False)\n",
       "      (6): Linear(in_features=50, out_features=30, bias=True)\n",
       "    )\n",
       "  )\n",
       "), opt_func=functools.partial(<class 'torch.optim.adam.Adam'>, betas=(0.9, 0.99)), loss_func=FlattenedLoss of CrossEntropyLoss(), metrics=[<function accuracy at 0x7fdd9b6f5d08>], true_wd=True, bn_wd=True, wd=0.01, train_bn=True, path=PosixPath('/home/piyush/Desktop/spotmentorlabs-machine-learning-assessment-dcc28d02f3d4'), model_dir='models', callback_fns=[functools.partial(<class 'fastai.basic_train.Recorder'>, add_time=True, silent=False)], callbacks=[RNNTrainer\n",
       "learn: RNNLearner(data=TextClasDataBunch;\n",
       "\n",
       "Train: LabelList (929 items)\n",
       "x: TextList\n",
       "xxbos xxmaj you should have minimum of 1 xxmaj year hands - on experience in xxmaj international xxmaj air xxmaj ticketing . xxmaj you should have sound knowledge & & experience in xxmaj galileo & & xxmaj amadeus . xxmaj you should have knowledge of making reservations on xxup crs . xxmaj creating xxup pnr split , xxmaj queues xxmaj you should have xxunk of xxup bsp xxmaj electronic xxmaj ticketing xxmaj table , xxmaj ticketing xxmaj quota xxmaj system , xxmaj issuing & & reissuing . xxmaj you should have sound xxmaj knowledge of xxmaj airline xxmaj fares.- xxmaj you should be professional , and positive in handling clients . xxmaj requirements : xxunk be computer literate , familiarity with xxmaj microsoft excel , word , and outlook .,xxbos,xxbos xxmaj the key to your success in this role will be : xxmaj strong written and oral communication skills a xxunk team member with a desire to share ideas xxmaj industry experience of at least 2 years a passion for travel xxmaj knowledge of , and the ability to work across all xxmaj south xxmaj xxunk destinations is essential xxmaj the ability to work under pressure and meet deadlines xxmaj excellent attention to detail xxmaj xxunk xxunk of initiative xxmaj the desire to learn and develop your skills and knowledge xxmaj an out there kind of personality !,xxbos,xxbos xxmaj travel xxmaj consultant xxunk : xxmaj determining clients ’ needs & and suggesting suitable travel xxunk travels from beginning to end , including tickets , accommodation and xxunk travelers with pertinent information and useful & travel / holiday materials & & xxmaj job briefwe are looking for a xxmaj travel xxmaj consultant with great enthusiasm for traveling . xxmaj you will be responsible for promoting and booking traveling arrangements for clients ( individuals or businesses ) . xxmaj the goal is to enhance satisfaction and acquire an expanding and dedicated clientele . responsibilitiesresearch various destinations and means of travel regarding prices , customs , weather conditions , reviews etc . xxmaj diagnose the clients ’ specifications and wishes and suggest suitable travel packages or servicesorganize travels from beginning to end , through booking tickets and accommodation , securing rental transportation etc . xxmaj supply travelers with pertinent information and useful & travel / holiday material & ( guides , maps , event programs etc)collect deposits and balancesuse promotional techniques and prepare promotional materials to sell itinerary tour packageshandle unforeseen & problems and complaints & and determine eligibility & for money returnsattend conferences & to & maintain familiarity with tourism trendscreate and update electronic records of clientsmaintain relationships with key personskeep financial statements and documentsreach the revenue and profit targetsrequirementsproven working experience as a travel consultantexcellent knowledge of traveling software ( computer reservations systems , xxup gds systems and e - travel)proficiency in xxmaj english ; knowledge of additional languages is an advantageexemplary sales skills and customer oriented approachwell versed in various areas of travel ( domestic / international , business / holidays , group / individual etc)ability to present , persuade and communicate effectivelydemonstrable ability to handle crisesdegree in xxmaj hospitality , xxmaj travel , xxmaj tourism , xxmaj business or relevant fieldcandidates with personal travel experience will be preferred\n",
       "y: CategoryList\n",
       "Ticketing,Ticketing,Ticketing,Ticketing,Ticketing\n",
       "Path: /home/piyush/Desktop/spotmentorlabs-machine-learning-assessment-dcc28d02f3d4;\n",
       "\n",
       "Valid: LabelList (233 items)\n",
       "x: TextList\n",
       "xxbos,xxbos,xxbos xxmaj requirement for xxmaj part xxmaj time xxmaj internet xxmaj based xxunk xxmaj works xxmaj are xxmaj available xxmaj for xxmaj workers xxmaj around xxmaj the xxmaj world . xxmaj nature of xxmaj business : & xxmaj promotion of xxmaj tourism & xxmaj services . xxmaj income : & xxmaj you xxmaj can xxmaj earn xxmaj up xxmaj to xxmaj rs.4000 xxmaj to 6000 xxmaj per xxmaj week . xxmaj benefit : & xxmaj no xxmaj time xxmaj bound , xxmaj no xxmaj skill xxmaj required . xxmaj complete xxmaj training xxmaj provided xxmaj to xxmaj all xxmaj active xxmaj members . xxmaj all xxmaj payments xxmaj are xxmaj weekly xxmaj basis . xxmaj worldwide xxmaj required xxmaj limited xxunk xxmaj now . xxmaj xxunk xxmaj xxunk ( xxup hr xxmaj xxunk,xxbos,xxbos xxmaj we xxmaj have urgent xxunk for xxmaj ticketing xxmaj executive at xxmaj tour and xxmaj travel xxunk xxmaj company at saanewal xxmaj location . xxmaj post- xxmaj ticketing xxmaj executive , xxmaj travel xxunk - 3 xxmaj xxunk 9 - xxunk xxmaj saanewaal , xxup xxunk xxmaj road . xxmaj ludhiana . xxmaj xxunk xxmaj candiadtes will xxunk near by 10 - 15 xxmaj xxunk they can apply on prior . xxmaj xxunk , saanewaal , xxmaj xxunk , xxmaj xxunk , or near by candidates can apply . xxmaj job xxmaj xxunk * xxmaj all xxmaj ticketing xxmaj activities : such as xxmaj issuance , xxmaj re - issuance , xxmaj xxunk , xxmaj cancellation and xxmaj refunds * knowledge of xxup gds ( xxmaj amadeus / xxmaj sabre ) - xxmaj not necessary for xxunk * xxmaj xxunk all activities * xxmaj follow ups with customers and clients for existing reservations . xxmaj intrested can call to xxmaj aditya kumar on 8527750087 or mail your cv on hr@cmts.in or cmts.hr@gmail.com & male and xxmaj female both will xxunk for the post .\n",
       "y: CategoryList\n",
       "Ticketing,Sales,Marketing,Digital Marketing,Ticketing\n",
       "Path: /home/piyush/Desktop/spotmentorlabs-machine-learning-assessment-dcc28d02f3d4;\n",
       "\n",
       "Test: None, model=SequentialRNN(\n",
       "  (0): MultiBatchEncoder(\n",
       "    (module): AWD_LSTM(\n",
       "      (encoder): Embedding(3288, 400, padding_idx=1)\n",
       "      (encoder_dp): EmbeddingDropout(\n",
       "        (emb): Embedding(3288, 400, padding_idx=1)\n",
       "      )\n",
       "      (rnns): ModuleList(\n",
       "        (0): WeightDropout(\n",
       "          (module): LSTM(400, 1152, batch_first=True)\n",
       "        )\n",
       "        (1): WeightDropout(\n",
       "          (module): LSTM(1152, 1152, batch_first=True)\n",
       "        )\n",
       "        (2): WeightDropout(\n",
       "          (module): LSTM(1152, 400, batch_first=True)\n",
       "        )\n",
       "      )\n",
       "      (input_dp): RNNDropout()\n",
       "      (hidden_dps): ModuleList(\n",
       "        (0): RNNDropout()\n",
       "        (1): RNNDropout()\n",
       "        (2): RNNDropout()\n",
       "      )\n",
       "    )\n",
       "  )\n",
       "  (1): PoolingLinearClassifier(\n",
       "    (layers): Sequential(\n",
       "      (0): BatchNorm1d(1200, eps=1e-05, momentum=0.1, affine=True, track_running_stats=True)\n",
       "      (1): Dropout(p=0.2, inplace=False)\n",
       "      (2): Linear(in_features=1200, out_features=50, bias=True)\n",
       "      (3): ReLU(inplace=True)\n",
       "      (4): BatchNorm1d(50, eps=1e-05, momentum=0.1, affine=True, track_running_stats=True)\n",
       "      (5): Dropout(p=0.1, inplace=False)\n",
       "      (6): Linear(in_features=50, out_features=30, bias=True)\n",
       "    )\n",
       "  )\n",
       "), opt_func=functools.partial(<class 'torch.optim.adam.Adam'>, betas=(0.9, 0.99)), loss_func=FlattenedLoss of CrossEntropyLoss(), metrics=[<function accuracy at 0x7fdd9b6f5d08>], true_wd=True, bn_wd=True, wd=0.01, train_bn=True, path=PosixPath('/home/piyush/Desktop/spotmentorlabs-machine-learning-assessment-dcc28d02f3d4'), model_dir='models', callback_fns=[functools.partial(<class 'fastai.basic_train.Recorder'>, add_time=True, silent=False)], callbacks=[...], layer_groups=[Sequential(\n",
       "  (0): Embedding(3288, 400, padding_idx=1)\n",
       "  (1): EmbeddingDropout(\n",
       "    (emb): Embedding(3288, 400, padding_idx=1)\n",
       "  )\n",
       "), Sequential(\n",
       "  (0): WeightDropout(\n",
       "    (module): LSTM(400, 1152, batch_first=True)\n",
       "  )\n",
       "  (1): RNNDropout()\n",
       "), Sequential(\n",
       "  (0): WeightDropout(\n",
       "    (module): LSTM(1152, 1152, batch_first=True)\n",
       "  )\n",
       "  (1): RNNDropout()\n",
       "), Sequential(\n",
       "  (0): WeightDropout(\n",
       "    (module): LSTM(1152, 400, batch_first=True)\n",
       "  )\n",
       "  (1): RNNDropout()\n",
       "), Sequential(\n",
       "  (0): PoolingLinearClassifier(\n",
       "    (layers): Sequential(\n",
       "      (0): BatchNorm1d(1200, eps=1e-05, momentum=0.1, affine=True, track_running_stats=True)\n",
       "      (1): Dropout(p=0.2, inplace=False)\n",
       "      (2): Linear(in_features=1200, out_features=50, bias=True)\n",
       "      (3): ReLU(inplace=True)\n",
       "      (4): BatchNorm1d(50, eps=1e-05, momentum=0.1, affine=True, track_running_stats=True)\n",
       "      (5): Dropout(p=0.1, inplace=False)\n",
       "      (6): Linear(in_features=50, out_features=30, bias=True)\n",
       "    )\n",
       "  )\n",
       ")], add_time=True, silent=False)\n",
       "alpha: 2.0\n",
       "beta: 1.0], layer_groups=[Sequential(\n",
       "  (0): Embedding(3288, 400, padding_idx=1)\n",
       "  (1): EmbeddingDropout(\n",
       "    (emb): Embedding(3288, 400, padding_idx=1)\n",
       "  )\n",
       "), Sequential(\n",
       "  (0): WeightDropout(\n",
       "    (module): LSTM(400, 1152, batch_first=True)\n",
       "  )\n",
       "  (1): RNNDropout()\n",
       "), Sequential(\n",
       "  (0): WeightDropout(\n",
       "    (module): LSTM(1152, 1152, batch_first=True)\n",
       "  )\n",
       "  (1): RNNDropout()\n",
       "), Sequential(\n",
       "  (0): WeightDropout(\n",
       "    (module): LSTM(1152, 400, batch_first=True)\n",
       "  )\n",
       "  (1): RNNDropout()\n",
       "), Sequential(\n",
       "  (0): PoolingLinearClassifier(\n",
       "    (layers): Sequential(\n",
       "      (0): BatchNorm1d(1200, eps=1e-05, momentum=0.1, affine=True, track_running_stats=True)\n",
       "      (1): Dropout(p=0.2, inplace=False)\n",
       "      (2): Linear(in_features=1200, out_features=50, bias=True)\n",
       "      (3): ReLU(inplace=True)\n",
       "      (4): BatchNorm1d(50, eps=1e-05, momentum=0.1, affine=True, track_running_stats=True)\n",
       "      (5): Dropout(p=0.1, inplace=False)\n",
       "      (6): Linear(in_features=50, out_features=30, bias=True)\n",
       "    )\n",
       "  )\n",
       ")], add_time=True, silent=False)"
      ]
     },
     "execution_count": 46,
     "metadata": {},
     "output_type": "execute_result"
    }
   ],
   "source": [
    "learn = text_classifier_learner(data_clas, AWD_LSTM, drop_mult=0.5)\n",
    "learn.load_encoder('ft_enc')"
   ]
  },
  {
   "cell_type": "code",
   "execution_count": 47,
   "metadata": {},
   "outputs": [
    {
     "data": {
      "text/html": [
       "<table border=\"1\" class=\"dataframe\">\n",
       "  <thead>\n",
       "    <tr style=\"text-align: right;\">\n",
       "      <th>text</th>\n",
       "      <th>target</th>\n",
       "    </tr>\n",
       "  </thead>\n",
       "  <tbody>\n",
       "    <tr>\n",
       "      <td>xxbos xxmaj arsenius xxmaj skill xxmaj capital is xxmaj hiring : xxmaj client xxmaj relation xxmaj managers &amp; xxmaj location : xxmaj delhi / xxmaj mumbai / xxmaj bangalore &amp; xxup ctc : up to 8 lac p.a &amp; xxmaj industry : xxmaj corporate &amp; &amp; xxmaj business xxmaj travel &amp; xxmaj position : xxmaj customer xxmaj relationship xxmaj management ( xxup crm ) &amp; &amp; xxmaj implementation &amp; xxmaj</td>\n",
       "      <td>Ticketing</td>\n",
       "    </tr>\n",
       "    <tr>\n",
       "      <td>xxbos xxmaj dear xxmaj job xxmaj xxunk , &amp; xxmaj we are looking for the xxup fit xxmaj specialist in xxmaj koramangala ( 5th xxmaj block ) &amp; &amp; xxmaj jayanagar ( 3rd xxmaj block ) - xxmaj bangalore &amp; xxmaj please find below the xxmaj company xxmaj profile &amp; &amp; xxmaj job xxmaj description for xxup fit xxmaj specialist . &amp; xxmaj designation / xxmaj position : &amp; xxup</td>\n",
       "      <td>Sales</td>\n",
       "    </tr>\n",
       "    <tr>\n",
       "      <td>xxbos xxmaj urgent xxmaj requirement for xxup travel xxup process : xxup interglobe xxup technologies : xxmaj xxunk xxmaj process ( xxunk process / xxunk xxunk process / xxmaj reservation / ticketing / * xxmaj work on xxup gds . * xxmaj day xxmaj xxunk working / xxunk side xxunk incentives . xxmaj xxunk : xxup xxunk xxup process ( xxup uk xxunk process / uk process * xxmaj fresher</td>\n",
       "      <td>Ticketing</td>\n",
       "    </tr>\n",
       "    <tr>\n",
       "      <td>xxbos xxmaj dear xxmaj candidate &amp; xxmaj hope you are doing well &amp; xxmaj we xxunk across your profile on the portal &amp; &amp; xxunk to share a role with you &amp; xxmaj location – xxmaj bangalore &amp; xxunk in xxunk , clientis the worldwide leader in vacation exchange and a provider of travel services to businesses and consumers . xxmaj through a unique xxunk and scope of accommodation xxunk</td>\n",
       "      <td>Back office ticketing</td>\n",
       "    </tr>\n",
       "    <tr>\n",
       "      <td>xxbos xxmaj the primary role of the xxup tsm / xxup tso is to prospect for new clients / xxmaj franchise / xxmaj travel xxmaj agents by networking , references , cold calling , advertising or other means of generating interest from potential clients . xxmaj they must then plan persuasive approaches andpitches that will convince potential clients to do business with the company . xxmaj they must develop a</td>\n",
       "      <td>Sales</td>\n",
       "    </tr>\n",
       "  </tbody>\n",
       "</table>"
      ],
      "text/plain": [
       "<IPython.core.display.HTML object>"
      ]
     },
     "metadata": {},
     "output_type": "display_data"
    }
   ],
   "source": [
    "data_clas.show_batch()"
   ]
  },
  {
   "cell_type": "code",
   "execution_count": 48,
   "metadata": {},
   "outputs": [
    {
     "data": {
      "text/html": [
       "<table border=\"1\" class=\"dataframe\">\n",
       "  <thead>\n",
       "    <tr style=\"text-align: left;\">\n",
       "      <th>epoch</th>\n",
       "      <th>train_loss</th>\n",
       "      <th>valid_loss</th>\n",
       "      <th>accuracy</th>\n",
       "      <th>time</th>\n",
       "    </tr>\n",
       "  </thead>\n",
       "  <tbody>\n",
       "    <tr>\n",
       "      <td>0</td>\n",
       "      <td>2.861428</td>\n",
       "      <td>2.378148</td>\n",
       "      <td>0.360515</td>\n",
       "      <td>07:29</td>\n",
       "    </tr>\n",
       "  </tbody>\n",
       "</table>"
      ],
      "text/plain": [
       "<IPython.core.display.HTML object>"
      ]
     },
     "metadata": {},
     "output_type": "display_data"
    }
   ],
   "source": [
    "learn.fit_one_cycle(1, 1e-2)"
   ]
  },
  {
   "cell_type": "code",
   "execution_count": 49,
   "metadata": {},
   "outputs": [
    {
     "data": {
      "text/html": [
       "<table border=\"1\" class=\"dataframe\">\n",
       "  <thead>\n",
       "    <tr style=\"text-align: left;\">\n",
       "      <th>epoch</th>\n",
       "      <th>train_loss</th>\n",
       "      <th>valid_loss</th>\n",
       "      <th>accuracy</th>\n",
       "      <th>time</th>\n",
       "    </tr>\n",
       "  </thead>\n",
       "  <tbody>\n",
       "    <tr>\n",
       "      <td>0</td>\n",
       "      <td>2.340233</td>\n",
       "      <td>2.619688</td>\n",
       "      <td>0.304721</td>\n",
       "      <td>08:24</td>\n",
       "    </tr>\n",
       "  </tbody>\n",
       "</table>"
      ],
      "text/plain": [
       "<IPython.core.display.HTML object>"
      ]
     },
     "metadata": {},
     "output_type": "display_data"
    }
   ],
   "source": [
    "learn.freeze_to(-2)\n",
    "learn.fit_one_cycle(1, slice(5e-3/2., 5e-3))"
   ]
  },
  {
   "cell_type": "code",
   "execution_count": 50,
   "metadata": {},
   "outputs": [
    {
     "data": {
      "text/html": [
       "<table border=\"1\" class=\"dataframe\">\n",
       "  <thead>\n",
       "    <tr style=\"text-align: left;\">\n",
       "      <th>epoch</th>\n",
       "      <th>train_loss</th>\n",
       "      <th>valid_loss</th>\n",
       "      <th>accuracy</th>\n",
       "      <th>time</th>\n",
       "    </tr>\n",
       "  </thead>\n",
       "  <tbody>\n",
       "    <tr>\n",
       "      <td>0</td>\n",
       "      <td>2.043390</td>\n",
       "      <td>1.949903</td>\n",
       "      <td>0.480687</td>\n",
       "      <td>08:28</td>\n",
       "    </tr>\n",
       "  </tbody>\n",
       "</table>"
      ],
      "text/plain": [
       "<IPython.core.display.HTML object>"
      ]
     },
     "metadata": {},
     "output_type": "display_data"
    }
   ],
   "source": [
    "learn.unfreeze()\n",
    "learn.fit_one_cycle(1, slice(2e-3/100, 2e-3))"
   ]
  },
  {
   "cell_type": "code",
   "execution_count": 51,
   "metadata": {},
   "outputs": [
    {
     "data": {
      "text/html": [
       "<table border=\"1\" class=\"dataframe\">\n",
       "  <thead>\n",
       "    <tr style=\"text-align: left;\">\n",
       "      <th>epoch</th>\n",
       "      <th>train_loss</th>\n",
       "      <th>valid_loss</th>\n",
       "      <th>accuracy</th>\n",
       "      <th>time</th>\n",
       "    </tr>\n",
       "  </thead>\n",
       "  <tbody>\n",
       "    <tr>\n",
       "      <td>0</td>\n",
       "      <td>1.825452</td>\n",
       "      <td>1.850540</td>\n",
       "      <td>0.480687</td>\n",
       "      <td>08:17</td>\n",
       "    </tr>\n",
       "  </tbody>\n",
       "</table>"
      ],
      "text/plain": [
       "<IPython.core.display.HTML object>"
      ]
     },
     "metadata": {},
     "output_type": "display_data"
    }
   ],
   "source": [
    "learn.fit_one_cycle(1, 1e-3)"
   ]
  },
  {
   "cell_type": "code",
   "execution_count": null,
   "metadata": {},
   "outputs": [],
   "source": []
  }
 ],
 "metadata": {
  "kernelspec": {
   "display_name": "Python 3",
   "language": "python",
   "name": "python3"
  },
  "language_info": {
   "codemirror_mode": {
    "name": "ipython",
    "version": 3
   },
   "file_extension": ".py",
   "mimetype": "text/x-python",
   "name": "python",
   "nbconvert_exporter": "python",
   "pygments_lexer": "ipython3",
   "version": "3.6.10"
  }
 },
 "nbformat": 4,
 "nbformat_minor": 2
}
